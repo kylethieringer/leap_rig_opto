{
 "cells": [
  {
   "cell_type": "code",
   "execution_count": 62,
   "metadata": {},
   "outputs": [],
   "source": [
    "import pandas as pd\n",
    "import numpy as np\n",
    "from numpy.polynomial.polynomial import polyfit"
   ]
  },
  {
   "cell_type": "code",
   "execution_count": 58,
   "metadata": {},
   "outputs": [],
   "source": [
    "xls = pd.ExcelFile('leap_rig_opto.xlsx')"
   ]
  },
  {
   "cell_type": "code",
   "execution_count": 59,
   "metadata": {},
   "outputs": [],
   "source": [
    "def create_stim(excelSheet, desiredPower, useCoverslip=True):\n",
    "    \"\"\"returns the voltage required to produced the desiredPower\"\"\"\n",
    "\n",
    "    if useCoverslip:\n",
    "        # uses measurements taken underneath coverslip (decreased power by < 3mW/cm2)\n",
    "        red = pd.read_excel(excelSheet, 'red_coverslip')\n",
    "        green = pd.read_excel(excelSheet, 'green_coverslip')\n",
    "    else:\n",
    "        red = pd.read_excel(excelSheet, 'red_linearity')\n",
    "        green = pd.read_excel(excelSheet, 'green_linearity')\n",
    "\n",
    "    RedPowerDict={}\n",
    "    GreenPowerDict={}\n",
    "    for rig in red['Rig'].unique():\n",
    "        redrig = red[red['Rig']==rig][1:] #doesn't include the reading from 0V\n",
    "        redvoltages = np.array(redrig['Voltage'])\n",
    "        redpower = np.array(redrig['Power Reading (mW/cm2)'])\n",
    "        idx = ~np.isnan(redpower) #excludes nan values\n",
    "        redvoltages = redvoltages[idx]\n",
    "        redpower = redpower[idx]\n",
    "\n",
    "        greenrig = green[green['Rig']==rig][1:] #doesn't include the reading from 0V\n",
    "        greenvoltages = np.array(greenrig['Voltage'])\n",
    "        greenpower = np.array(greenrig['Power Reading (mW/cm2)'])\n",
    "        idx = ~np.isnan(greenpower) #excludes nan values\n",
    "        greenvoltages = greenvoltages[idx]\n",
    "        greenpower = greenpower[idx]\n",
    "\n",
    "        rb,rm = polyfit(redvoltages, redpower,1)\n",
    "        gb,gm = polyfit(greenvoltages, greenpower,1)\n",
    "        redV = (desiredPower-rb)/rm\n",
    "        greenV = (desiredPower-gb)/gm\n",
    "\n",
    "        RedPowerDict[rig]=redV\n",
    "        GreenPowerDict[rig]=greenV\n",
    "\n",
    "    return RedPowerDict, GreenPowerDict\n",
    "\n",
    "        "
   ]
  },
  {
   "cell_type": "markdown",
   "metadata": {},
   "source": [
    "## get voltages for a given power"
   ]
  },
  {
   "cell_type": "code",
   "execution_count": 60,
   "metadata": {},
   "outputs": [],
   "source": [
    "red, green = create_stim(xls, 10)"
   ]
  },
  {
   "cell_type": "code",
   "execution_count": 61,
   "metadata": {},
   "outputs": [
    {
     "data": {
      "text/plain": [
       "{1.1: 1.7819603730087625,\n",
       " 1.2: 1.7644961008239148,\n",
       " 2.1: 1.8120507834902528,\n",
       " 2.2: 1.830408589772224,\n",
       " 3.1: 1.7604514212183595,\n",
       " 3.2: 1.7597216320322564}"
      ]
     },
     "execution_count": 61,
     "metadata": {},
     "output_type": "execute_result"
    }
   ],
   "source": [
    "red"
   ]
  },
  {
   "cell_type": "markdown",
   "metadata": {},
   "source": [
    "## create a stimulus file using python"
   ]
  },
  {
   "cell_type": "code",
   "execution_count": 84,
   "metadata": {},
   "outputs": [],
   "source": [
    "from scipy.io import savemat\n",
    "import numpy as np"
   ]
  },
  {
   "cell_type": "code",
   "execution_count": 95,
   "metadata": {},
   "outputs": [],
   "source": [
    "voltage = 1.2345\n",
    "\n",
    "fs = 10000 # samplerate\n",
    "stimLength = 5 # seconds\n",
    "daqStimLength = stimLength*fs\n",
    "\n",
    "stim = {'stim': np.array([np.ones(daqStimLength)*voltage]).T}\n",
    "\n",
    "# if you want flashing on and off:\n",
    "on = np.ones(daqStimLength)*voltage\n",
    "off = np.zeros(daqStimLength)\n",
    "stimulus = np.append(on, off)\n",
    "\n",
    "stim = {'stim': np.array([stimulus]).T}"
   ]
  },
  {
   "cell_type": "code",
   "execution_count": 96,
   "metadata": {},
   "outputs": [],
   "source": [
    "savemat('example_stim.mat', stim)"
   ]
  },
  {
   "cell_type": "code",
   "execution_count": null,
   "metadata": {},
   "outputs": [],
   "source": []
  }
 ],
 "metadata": {
  "interpreter": {
   "hash": "b7789ef3e62904c11d19699454d7706be5bcc4e55d75009345c90a466beccfc6"
  },
  "kernelspec": {
   "display_name": "Python 3.9.7 ('sandbox')",
   "language": "python",
   "name": "python3"
  },
  "language_info": {
   "codemirror_mode": {
    "name": "ipython",
    "version": 3
   },
   "file_extension": ".py",
   "mimetype": "text/x-python",
   "name": "python",
   "nbconvert_exporter": "python",
   "pygments_lexer": "ipython3",
   "version": "3.9.7"
  },
  "orig_nbformat": 4
 },
 "nbformat": 4,
 "nbformat_minor": 2
}
